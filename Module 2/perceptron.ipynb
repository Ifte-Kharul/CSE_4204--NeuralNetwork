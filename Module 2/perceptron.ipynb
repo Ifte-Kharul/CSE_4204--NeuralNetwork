{
 "cells": [
  {
   "cell_type": "code",
   "execution_count": 1,
   "metadata": {},
   "outputs": [],
   "source": [
    "import numpy as np"
   ]
  },
  {
   "cell_type": "code",
   "execution_count": 2,
   "metadata": {},
   "outputs": [],
   "source": [
    "def unit_step_func(x):\n",
    "    return np.where(x > 0, 1 ,0)\n",
    "\n",
    "class Perceptron:\n",
    "    def __init__(self, learning_rate = 0.01,n_iters = 1000):\n",
    "        self.lr = learning_rate\n",
    "        self.n_iters = n_iters\n",
    "        self.activation_func = unit_step_func\n",
    "        self.weight = None\n",
    "        self.bias = None\n",
    "\n",
    "    def fit(self, x, y):\n",
    "        n_samples , n_features = x.shape\n",
    "        self.weight = np.zeros(n_features)\n",
    "        self.bias = 0\n",
    "\n",
    "        #learn weight\n",
    "        for _ in range(self.n_iters):\n",
    "            for idx, x_i in enumerate(x):\n",
    "                linear_output = np.dot(x_i,self.weight) + self.bias\n",
    "                y_predicted = self.activation_func(linear_output)\n",
    "\n",
    "                #perceptron Update rule\n",
    "                update = self.lr * (y[idx]) - y_predicted\n",
    "                self.weight += update * x_i\n",
    "                self.bias += update\n",
    "\n",
    "    def predict(self , x):\n",
    "        linear_output = np.dot(x,self.weight) + self.bias\n",
    "        y_predicted = self.activation_func(linear_output)\n",
    "        return y_predicted"
   ]
  }
 ],
 "metadata": {
  "kernelspec": {
   "display_name": "base",
   "language": "python",
   "name": "python3"
  },
  "language_info": {
   "codemirror_mode": {
    "name": "ipython",
    "version": 3
   },
   "file_extension": ".py",
   "mimetype": "text/x-python",
   "name": "python",
   "nbconvert_exporter": "python",
   "pygments_lexer": "ipython3",
   "version": "3.9.18"
  }
 },
 "nbformat": 4,
 "nbformat_minor": 2
}

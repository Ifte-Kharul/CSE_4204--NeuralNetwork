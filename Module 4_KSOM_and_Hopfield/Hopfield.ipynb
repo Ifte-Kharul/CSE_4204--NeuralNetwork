{
  "cells": [
    {
      "cell_type": "code",
      "execution_count": null,
      "metadata": {
        "colab": {
          "base_uri": "https://localhost:8080/"
        },
        "id": "JELWFdt4zy_l",
        "outputId": "15449fc4-f3d1-4ba5-b39e-619835c1daf9"
      },
      "outputs": [
        {
          "output_type": "stream",
          "name": "stdout",
          "text": [
            "Drive already mounted at /content/drive; to attempt to forcibly remount, call drive.mount(\"/content/drive\", force_remount=True).\n"
          ]
        }
      ],
      "source": [
        "import numpy as np\n",
        "from google.colab import drive\n",
        "drive.mount('/content/drive')\n",
        "import pandas as pd\n",
        "url = 'https://drive.google.com/uc?id={}'.format(\"1EpS1_XS3DkcLl-RG18Ooon4Vetyymdq_\")\n",
        "df = pd.read_csv(url)\n",
        "import matplotlib.pyplot as plt\n",
        "import numpy as np\n",
        "from sklearn.model_selection import train_test_split\n",
        "import seaborn as sns\n",
        "from mpl_toolkits.mplot3d import Axes3D"
      ]
    },
    {
      "cell_type": "code",
      "source": [
        "from sklearn.metrics import accuracy_score"
      ],
      "metadata": {
        "id": "IDq94A9FFQs1"
      },
      "execution_count": null,
      "outputs": []
    },
    {
      "cell_type": "code",
      "execution_count": null,
      "metadata": {
        "id": "ReNzQkEzz7Cg"
      },
      "outputs": [],
      "source": [
        "x = df.drop(['Outcome'], axis=1)\n",
        "y = df['Outcome']"
      ]
    },
    {
      "cell_type": "code",
      "source": [
        "x= x.to_numpy()\n",
        "y= y.to_numpy()"
      ],
      "metadata": {
        "id": "6JP3WoTly-cK"
      },
      "execution_count": null,
      "outputs": []
    },
    {
      "cell_type": "code",
      "source": [
        "def normalize_data(data):\n",
        "    # mean = np.mean(data, axis=0)\n",
        "    # std = np.std(data, axis=0)\n",
        "    # normalized_data = (data - mean) / std\n",
        "    # Calculate min and max values in the array\n",
        "    min_val = np.min(data)\n",
        "    max_val = np.max(data)\n",
        "\n",
        "    # Normalize the array to the range [-1, 1]\n",
        "    # normalized_data = 2 * (data - min_val) / (max_val - min_val) - 1\n",
        "    normalized_data = (data - min_val) / (max_val - min_val)\n",
        "    normalized_data = np.round(normalized_data, 2)\n",
        "    normalized_data = np.where(normalized_data < 0.05, -1, 1)\n",
        "    return normalized_data"
      ],
      "metadata": {
        "id": "0bj5VdQMxbG5"
      },
      "execution_count": null,
      "outputs": []
    },
    {
      "cell_type": "code",
      "source": [],
      "metadata": {
        "colab": {
          "base_uri": "https://localhost:8080/"
        },
        "id": "Mh92XdSLnurk",
        "outputId": "5bf92fa5-8634-4135-bd0e-a67d49ee99d9"
      },
      "execution_count": null,
      "outputs": [
        {
          "output_type": "execute_result",
          "data": {
            "text/plain": [
              "dtype('float64')"
            ]
          },
          "metadata": {},
          "execution_count": 5
        }
      ]
    },
    {
      "cell_type": "code",
      "source": [
        "x = normalize_data(x)"
      ],
      "metadata": {
        "id": "JSEgFEExxcnM"
      },
      "execution_count": null,
      "outputs": []
    },
    {
      "cell_type": "code",
      "source": [
        "x[:5]"
      ],
      "metadata": {
        "colab": {
          "base_uri": "https://localhost:8080/"
        },
        "id": "3OuKpLlB1wBc",
        "outputId": "b7db393d-fcfa-4098-e013-1c4e0cf7785f"
      },
      "execution_count": null,
      "outputs": [
        {
          "output_type": "execute_result",
          "data": {
            "text/plain": [
              "array([[-1,  1,  1, -1, -1, -1, -1,  1],\n",
              "       [-1,  1,  1, -1, -1, -1, -1, -1],\n",
              "       [-1,  1,  1, -1, -1, -1, -1, -1],\n",
              "       [-1,  1,  1, -1,  1, -1, -1, -1],\n",
              "       [-1,  1,  1, -1,  1,  1, -1, -1]])"
            ]
          },
          "metadata": {},
          "execution_count": 15
        }
      ]
    },
    {
      "cell_type": "code",
      "source": [
        "\n",
        "# Split the dataset into training and testing sets\n",
        "x_train, x_test, y_train, y_test = train_test_split(x, y, test_size=0.2, random_state=42)"
      ],
      "metadata": {
        "id": "11qaINEpEtXy"
      },
      "execution_count": null,
      "outputs": []
    },
    {
      "cell_type": "code",
      "source": [
        "x_test[:5]"
      ],
      "metadata": {
        "colab": {
          "base_uri": "https://localhost:8080/"
        },
        "id": "yE-IU2sfmgNa",
        "outputId": "46e66e19-e8f3-47b3-f9bf-1e8eedcfb4a3"
      },
      "execution_count": null,
      "outputs": [
        {
          "output_type": "execute_result",
          "data": {
            "text/plain": [
              "array([[-1,  1,  1, -1,  1, -1, -1,  1],\n",
              "       [-1,  1,  1, -1, -1, -1, -1, -1],\n",
              "       [-1,  1,  1, -1, -1, -1, -1, -1],\n",
              "       [-1,  1,  1, -1, -1, -1, -1, -1],\n",
              "       [-1,  1,  1, -1, -1, -1, -1,  1]])"
            ]
          },
          "metadata": {},
          "execution_count": 17
        }
      ]
    },
    {
      "cell_type": "code",
      "execution_count": null,
      "metadata": {
        "id": "TU6EzeRJ1Fqh"
      },
      "outputs": [],
      "source": [
        "\n",
        "# Hopfield Network class\n",
        "class HopfieldNetwork:\n",
        "    def __init__(self, size):\n",
        "        self.weights = np.zeros((size, size))\n",
        "        self.coun = 0\n",
        "\n",
        "    def train(self, patterns):\n",
        "        for pattern in patterns:\n",
        "            self.weights += np.outer(pattern, pattern)\n",
        "            np.fill_diagonal(self.weights, 0)\n",
        "\n",
        "    def predict(self, input_pattern, max_iterations=50):\n",
        "\n",
        "        for _ in range(max_iterations):\n",
        "            output = np.sign(np.dot(self.weights, input_pattern))\n",
        "            if np.array_equal(input_pattern, output):\n",
        "              self.coun = self.coun + 1\n",
        "              break\n",
        "            input_pattern = output\n",
        "        return output\n",
        "    def getCountValue(self):\n",
        "      return self.coun\n",
        "\n"
      ]
    },
    {
      "cell_type": "code",
      "source": [
        "x_test.dtype"
      ],
      "metadata": {
        "colab": {
          "base_uri": "https://localhost:8080/"
        },
        "id": "S52yOncky2XM",
        "outputId": "34a586ae-92db-468d-f7d3-66af9db71483"
      },
      "execution_count": null,
      "outputs": [
        {
          "output_type": "execute_result",
          "data": {
            "text/plain": [
              "dtype('int64')"
            ]
          },
          "metadata": {},
          "execution_count": 33
        }
      ]
    },
    {
      "cell_type": "code",
      "source": [
        "def test_hopfield_network(X_train, y_train, X_test, y_test):\n",
        "    # Train Hopfield Network\n",
        "    hopfield = HopfieldNetwork(size=X_train.shape[1])\n",
        "    hopfield.train(X_train)\n",
        "\n",
        "    # Test Hopfield Network\n",
        "    # predictions = np.array([hopfield.predict(x) for x in X_test.values])\n",
        "    predictions = np.array([hopfield.predict(x) for x in X_test])\n",
        "    c = hopfield.getCountValue()\n",
        "    # coun,predictions = hopfield.predict(X_test[0])\n",
        "    # print(predictions)\n",
        "    accuracy = c/len(y_test)\n",
        "    print(f'accuracy: {accuracy}')\n"
      ],
      "metadata": {
        "id": "YcbA9tw3FT1B"
      },
      "execution_count": null,
      "outputs": []
    },
    {
      "cell_type": "code",
      "source": [
        "# Test the function\n",
        "p = test_hopfield_network(x_train, y_train, x_test, y_test)\n"
      ],
      "metadata": {
        "colab": {
          "base_uri": "https://localhost:8080/"
        },
        "id": "P120sDUyFVZ1",
        "outputId": "a1975c17-ca0d-4a8c-f4cd-e01023a687b2"
      },
      "execution_count": null,
      "outputs": [
        {
          "output_type": "stream",
          "name": "stdout",
          "text": [
            "accuracy: 1.0\n"
          ]
        }
      ]
    },
    {
      "cell_type": "code",
      "source": [
        "y_test.shape"
      ],
      "metadata": {
        "id": "M8o29UQtFuCN"
      },
      "execution_count": null,
      "outputs": []
    }
  ],
  "metadata": {
    "colab": {
      "provenance": []
    },
    "kernelspec": {
      "display_name": "Python 3",
      "name": "python3"
    },
    "language_info": {
      "name": "python"
    }
  },
  "nbformat": 4,
  "nbformat_minor": 0
}